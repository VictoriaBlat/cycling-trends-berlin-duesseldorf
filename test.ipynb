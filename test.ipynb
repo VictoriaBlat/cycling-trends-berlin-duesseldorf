{
 "cells": [
  {
   "cell_type": "code",
   "execution_count": 1,
   "metadata": {},
   "outputs": [],
   "source": [
    "# für tabellerische Daten wie Excel\n",
    "import pandas as pd \n",
    "# für nummerische Analyse\n",
    "import numpy as np  \n",
    "# für grafische ploten\n",
    "import matplotlib.pyplot as plt \n",
    "%matplotlib inline    \n",
    "# für grafische ploten\n",
    "import seaborn as sns   \n",
    "\n",
    "import os"
   ]
  },
  {
   "cell_type": "code",
   "execution_count": null,
   "metadata": {},
   "outputs": [],
   "source": [
    "bikes_berlin_df_2017 = pd.read_excel('fahrrad_dauerzaehlstellen_berlin.xlsx', sheet_name=8)"
   ]
  },
  {
   "cell_type": "code",
   "execution_count": null,
   "metadata": {},
   "outputs": [],
   "source": []
  },
  {
   "cell_type": "code",
   "execution_count": null,
   "metadata": {},
   "outputs": [],
   "source": []
  },
  {
   "cell_type": "code",
   "execution_count": null,
   "metadata": {},
   "outputs": [],
   "source": [
    "# This function returns cell background's rgb value in tuple. \n",
    "\n",
    "def getBGColor(book, sheet, row, col):\n",
    "    xfx = sheet.cell_xf_index(row, col)\n",
    "    xf = book.xf_list[xfx]\n",
    "    bgx = xf.background.pattern_colour_index\n",
    "    pattern_colour = book.colour_map[bgx]\n",
    "\n",
    "    #Actually, despite the name, the background colour is not the background colour.\n",
    "    #background_colour_index = xf.background.background_colour_index\n",
    "    #background_colour = book.colour_map[background_colour_index]\n",
    "\n",
    "    return pattern_colour"
   ]
  },
  {
   "cell_type": "code",
   "execution_count": null,
   "metadata": {},
   "outputs": [],
   "source": [
    "# Here is a solution for xlsx files using openpyxl library. A2 is the cell whose color code we need to find out. \n",
    "\n",
    "import openpyxl\n",
    "from openpyxl import load_workbook\n",
    "excel_file = 'color_codes.xlsx' \n",
    "wb = load_workbook(excel_file, data_only = True)\n",
    "sh = wb['Sheet1']\n",
    "color_in_hex = sh['A2'].fill.start_color.index # this gives you Hexadecimal value of the color\n",
    "print ('HEX =',color_in_hex) \n",
    "print('RGB =', tuple(int(color_in_hex[i:i+2], 16) for i in (0, 2, 4))) # Color in RGB"
   ]
  },
  {
   "cell_type": "code",
   "execution_count": null,
   "metadata": {},
   "outputs": [],
   "source": []
  }
 ],
 "metadata": {
  "kernelspec": {
   "display_name": "Python 3",
   "language": "python",
   "name": "python3"
  },
  "language_info": {
   "codemirror_mode": {
    "name": "ipython",
    "version": 3
   },
   "file_extension": ".py",
   "mimetype": "text/x-python",
   "name": "python",
   "nbconvert_exporter": "python",
   "pygments_lexer": "ipython3",
   "version": "3.8.5"
  }
 },
 "nbformat": 4,
 "nbformat_minor": 4
}
